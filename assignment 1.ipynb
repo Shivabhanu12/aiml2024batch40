{
 "cells": [
  {
   "cell_type": "code",
   "execution_count": null,
   "id": "55e0f1b3",
   "metadata": {},
   "outputs": [
    {
     "name": "stdout",
     "output_type": "stream",
     "text": [
      "[1, 2, 3]\n",
      "[1 2 3]\n"
     ]
    }
   ],
   "source": [
    "#create a list and array\n",
    "import numpy as np\n",
    "list1=[1,2,3]\n",
    "array1=np.array(list1)\n",
    "print(list1)\n",
    "print(array1)"
   ]
  },
  {
   "cell_type": "code",
   "execution_count": 21,
   "id": "71937301",
   "metadata": {},
   "outputs": [
    {
     "name": "stdout",
     "output_type": "stream",
     "text": [
      "list= [1, 2, 3, 4]\n",
      "array= [1 2 3 4]\n"
     ]
    },
    {
     "data": {
      "text/plain": [
       "numpy.ndarray"
      ]
     },
     "execution_count": 21,
     "metadata": {},
     "output_type": "execute_result"
    }
   ],
   "source": [
    "#identify type using type()\n",
    "import numpy as np\n",
    "list1=[1,2,3,4]\n",
    "array1=np.array(list1)\n",
    "print(\"list=\",list1)\n",
    "print(\"array=\",array1)\n",
    "type(list1)\n",
    "type(array1)\n"
   ]
  },
  {
   "cell_type": "code",
   "execution_count": 11,
   "id": "dff1da0d",
   "metadata": {},
   "outputs": [
    {
     "name": "stdout",
     "output_type": "stream",
     "text": [
      "array1 * array2= [20 40 60]\n",
      "array1 / array2= [0.2        0.1        0.06666667]\n",
      "array1 ^ array2= [ 8 22 28]\n"
     ]
    }
   ],
   "source": [
    "#Perform mathematical operations on these datasets created - multiplication, division,powerof\n",
    "import numpy as np\n",
    "array1=np.array([10,20,30])\n",
    "array2=np.array([2,2,2])\n",
    "print(\"array1 * array2=\",array1*array2)\n",
    "print(\"array1 / array2=\",array2/array1)\n",
    "print(\"array1 ^ array2=\",array2^array1)"
   ]
  },
  {
   "cell_type": "code",
   "execution_count": 13,
   "id": "e8877ff1",
   "metadata": {},
   "outputs": [
    {
     "name": "stdout",
     "output_type": "stream",
     "text": [
      "addition of two arrays: [12 22 32]\n",
      "combined text: sr university\n"
     ]
    }
   ],
   "source": [
    "# Combine text with Numpy fuction to generate a textual output - ”Addition of Two: array1 +array 2\n",
    "import numpy as np\n",
    "array1=np.array([10,20,30])\n",
    "array2=np.array([2,2,2])\n",
    "text1=\"sr\"\n",
    "text2=\"university\"\n",
    "addition=print(\"addition of two arrays:\",array1+array2)\n",
    "combined_text=text1+\" \"+text2\n",
    "print(\"combined text:\",combined_text)\n"
   ]
  },
  {
   "cell_type": "code",
   "execution_count": 19,
   "id": "af3c8ac2",
   "metadata": {},
   "outputs": [
    {
     "name": "stdout",
     "output_type": "stream",
     "text": [
      "[-0.54402111  0.91294525 -0.98803162]\n",
      "[1.         1.30103    1.47712125]\n",
      "[3.32192809 4.32192809 4.9068906 ]\n",
      "[2.20264658e+04 4.85165195e+08 1.06864746e+13]\n"
     ]
    }
   ],
   "source": [
    "#Implement np.sin(), log(), log2(), np.exp())\n",
    "import numpy as np\n",
    "array1=np.array([10,20,30])\n",
    "sinarray=np.sin(array1)\n",
    "logarray=np.log10(array1)\n",
    "log2array=np.log2(array1)\n",
    "exparray=np.exp(array1)\n",
    "print(sinarray)\n",
    "print(logarray)\n",
    "print(log2array)\n",
    "print(exparray)"
   ]
  },
  {
   "cell_type": "code",
   "execution_count": 22,
   "id": "83643b74",
   "metadata": {},
   "outputs": [
    {
     "name": "stdout",
     "output_type": "stream",
     "text": [
      "The adjacency List representing the graph is:\n",
      "{0: [1, 3], 1: [0, 2, 3], 2: [4, 1, 5], 3: [4, 0, 1], 4: [2, 3, 5], 5: [4, 2], 6: []}\n",
      "BFS traversal of graph with source 0 is:\n",
      "0-->1-->3-->2-->4-->5-->"
     ]
    }
   ],
   "source": [
    "from queue import Queue\n",
    " \n",
    "graph = {0: [1, 3], 1: [0, 2, 3], 2: [4, 1, 5], 3: [4, 0, 1], 4: [2, 3, 5], 5: [4, 2], 6: []}\n",
    "print(\"The adjacency List representing the graph is:\")\n",
    "print(graph)\n",
    "def bfs(graph, source):\n",
    "    Q = Queue()\n",
    "    visited_vertices = set()\n",
    "    Q.put(source)\n",
    "    visited_vertices.update({0})\n",
    "    while not Q.empty():\n",
    "        vertex = Q.get()\n",
    "        print(vertex, end=\"-->\")\n",
    "        for u in graph[vertex]:\n",
    "            if u not in visited_vertices:\n",
    "                Q.put(u)\n",
    "                visited_vertices.update({u})\n",
    " \n",
    "print(\"BFS traversal of graph with source 0 is:\")\n",
    "bfs(graph, 0)"
   ]
  }
 ],
 "metadata": {
  "kernelspec": {
   "display_name": "Python 3 (ipykernel)",
   "language": "python",
   "name": "python3"
  },
  "language_info": {
   "codemirror_mode": {
    "name": "ipython",
    "version": 3
   },
   "file_extension": ".py",
   "mimetype": "text/x-python",
   "name": "python",
   "nbconvert_exporter": "python",
   "pygments_lexer": "ipython3",
   "version": "3.7.12"
  }
 },
 "nbformat": 4,
 "nbformat_minor": 5
}
